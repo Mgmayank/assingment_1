{
 "cells": [
  {
   "cell_type": "code",
   "execution_count": 1,
   "metadata": {},
   "outputs": [
    {
     "data": {
      "text/plain": [
       "[0, 1, 2, 5, 6, 8]"
      ]
     },
     "execution_count": 1,
     "metadata": {},
     "output_type": "execute_result"
    }
   ],
   "source": [
    "input=[0,1,2,1,5,6,8,6,0,2]\n",
    "list(set(input))"
   ]
  },
  {
   "cell_type": "code",
   "execution_count": 4,
   "metadata": {},
   "outputs": [
    {
     "name": "stdout",
     "output_type": "stream",
     "text": [
      "5\n",
      "sum of given no. is= 1699\n",
      "123\n",
      "654\n"
     ]
    }
   ],
   "source": [
    "tuple=(123,321,145,456,654)\n",
    "print(len(tuple))\n",
    "print(\"sum of given no. is=\",sum(tuple))\n",
    "print(min(tuple))\n",
    "print(max(tuple))"
   ]
  },
  {
   "cell_type": "code",
   "execution_count": 6,
   "metadata": {},
   "outputs": [
    {
     "name": "stdout",
     "output_type": "stream",
     "text": [
      "Kth bit set number =  15\n"
     ]
    }
   ],
   "source": [
    "def setithBit(n,k): \n",
    "\n",
    "    return ((1 << k) | n) \n",
    "  \n",
    "n = 13 \n",
    "k = 1\n",
    "  \n",
    "print(\"Kth bit set number = \", \n",
    "          setKthBit(n, k)) "
   ]
  },
  {
   "cell_type": "code",
   "execution_count": null,
   "metadata": {},
   "outputs": [],
   "source": [
    "arr=[\"1\",\"0\"]\n",
    "print(\"enter the no.\")\n",
    "no=input()\n",
    "print(arr[int(no)%2])"
   ]
  },
  {
   "cell_type": "code",
   "execution_count": 47,
   "metadata": {},
   "outputs": [
    {
     "name": "stdout",
     "output_type": "stream",
     "text": [
      "list1 is[16, 1, 5, 15, 13, 11, 9, 7, 6]\n",
      "list2 is[2, 4, 6, 8, 10, 12, 14, 18]\n",
      "the combined list in ascending form is [1, 2, 4, 5, 6, 6, 7, 8, 9, 10, 11, 12, 13, 14, 15, 16, 18]\n"
     ]
    }
   ],
   "source": [
    "list1=[16,1,5,15,13,11,9,7,6]\n",
    "list2=[2,4,6,8,10,12,14,18]\n",
    "print(\"list1 is\"+str(list1))\n",
    "print(\"list2 is\"+str(list2))\n",
    "res = sorted(list1 +list2)\n",
    "list1,list2.sort()\n",
    "print (\"the combined list in ascending form is \" +str(res))"
   ]
  },
  {
   "cell_type": "code",
   "execution_count": 48,
   "metadata": {},
   "outputs": [
    {
     "name": "stdout",
     "output_type": "stream",
     "text": [
      "30 : rahul\n",
      "50 : deepak\n",
      "70 : mayank\n",
      "100 : prince\n"
     ]
    }
   ],
   "source": [
    "marks={70:\"mayank\" ,50:\"deepak\", 30:\"rahul\",100:\"prince\"}\n",
    "for s in sorted(marks):\n",
    "    print(s,\":\",marks[s])"
   ]
  },
  {
   "cell_type": "code",
   "execution_count": null,
   "metadata": {},
   "outputs": [],
   "source": []
  }
 ],
 "metadata": {
  "kernelspec": {
   "display_name": "Python 3",
   "language": "python",
   "name": "python3"
  },
  "language_info": {
   "codemirror_mode": {
    "name": "ipython",
    "version": 3
   },
   "file_extension": ".py",
   "mimetype": "text/x-python",
   "name": "python",
   "nbconvert_exporter": "python",
   "pygments_lexer": "ipython3",
   "version": "3.7.6"
  }
 },
 "nbformat": 4,
 "nbformat_minor": 4
}
